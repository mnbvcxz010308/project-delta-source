{
 "cells": [
  {
   "cell_type": "markdown",
   "metadata": {},
   "source": [
    "------------------------\n",
    "# VipinGS Comment Policy\n",
    "------------------------\n",
    "\n",
    "We want you to feel at home when you post a comment on vipings. \n",
    "We want everyone to feel at home posting comments on vipings. \n",
    "We don’t know what your home is like, \n",
    "but we know how we expect people to behave when they visit ours. \n",
    "That’s why we reserve the right to delete comments and ban users as needed to keep-\n",
    "the comment threads here civil and substantive.\n",
    "\n",
    "- Our No. 1 house rule is simple: **Don’t be a jerk.**\n",
    "\n",
    "Want to be the kind of commenter we’d love to bring home \n",
    "to Thanksgiving dinner? Here’s what we like to see in comments:\n",
    "\n",
    "- **Weigh in with smart, informed ideas that contribute further to the story.**\n",
    "\n",
    "- **Give us useful, constructive criticism. **Spot a typo or an error? Let us know and we will correct it.\n",
    "\n",
    "- **Demonstrate and share the intelligence, wisdom, and humor we know you possess.**\n",
    "\n",
    "- **Don’t feed the trolls.** You wouldn’t dive into a debate with our ill-informed, weird uncle Gary just for the heck of it. And you definitely wouldn’t feed him. (We told you he was weird.) Downvote and flag comments instead.\n",
    "\n",
    "Although we can’t be everywhere at once, here are some of the kinds of comments we’re going to do our best to curtail:\n",
    "\n",
    "- **Promoting your own brand, product, or blog.** So you’ve got a climate change solution that will simultaneously solve world poverty. Great. Send it through our contact form, you Elon Musk, you.\n",
    "\n",
    "- **Impersonating authors or other commenters.** We can’t believe we have to say this, but: Don’t do that. It’s weird.\n",
    "\n",
    "- **Comments that make it clear you didn’t read the article.** Enraged that we didn’t mention X in a story about Y? Slow down, Speedy McFingerson. If you’d made it past paragraph two, you’d see a very well thought-out discussion of that X you hold so dear.\n",
    "\n",
    "- **Comments that are completely out of left field.** Sometimes discussions veer off a bit, but are still related to the original subject. That is fine. Hijacking the conversation to promote off-topic commentary is not.\n",
    "\n",
    "- **Threats — no matter how vague — against the author or other commenters.** Things can get heated. Before you casually mention your foe’s home address, think of your Mother Earth. (Bonus points if you never use the phrase “Mother Earth.”)\n",
    "\n",
    "- **Racism, sexism, homophobia, you get the drift.** Call us the PC Police, fine, but don’t say we didn’t warn you when you get tased. **And by tased, we mean banned or deleted. vipings has not — and will not — ever own a taser, and even if we were to own a solar-charged taser, we’d be too scared to use it.\n",
    "\n",
    "- **Trolling.** If you’re a climate denier just out for a good trolling and are not contributing meaningfully to the conversation, we’ll be pushing you back under the bridge."
   ]
  }
 ],
 "metadata": {
  "kernelspec": {
   "display_name": "Python 3",
   "language": "python",
   "name": "python3"
  },
  "language_info": {
   "codemirror_mode": {
    "name": "ipython",
    "version": 3
   },
   "file_extension": ".py",
   "mimetype": "text/x-python",
   "name": "python",
   "nbconvert_exporter": "python",
   "pygments_lexer": "ipython3",
   "version": "3.6.2"
  }
 },
 "nbformat": 4,
 "nbformat_minor": 2
}
